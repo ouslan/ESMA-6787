{
 "cells": [
  {
   "cell_type": "code",
   "execution_count": null,
   "id": "42545acd",
   "metadata": {},
   "outputs": [],
   "source": [
    "import numpy as np\n",
    "import pandas as pd\n",
    "import statsmodels.api as sm\n",
    "import statsmodels.formula.api as smf\n",
    "from statsmodels.stats.anova import anova_lm"
   ]
  },
  {
   "cell_type": "code",
   "execution_count": null,
   "id": "73e9b4f0",
   "metadata": {},
   "outputs": [],
   "source": [
    "group1 = [11.4, 11.0, 11.3, 9.5]  # 0.25 tsp\n",
    "group2 = [27.8, 29.2, 26.8, 26.0]  # 0.5 tsp\n",
    "group3 = [47.6, 47.0, 47.3, 45.5]  # 0.75 tsp\n",
    "group4 = [61.6, 62.4, 63.0, 63.9]  # 1 tsp\n",
    "\n",
    "data = pd.DataFrame({\n",
    "    'RiseHeight': group1 + group2 + group3 + group4,\n",
    "    'BakingPowder': ['0.25 tsp']*4 + ['0.5 tsp']*4 + ['0.75 tsp']*4 + ['1 tsp']*4\n",
    "})\n",
    "data"
   ]
  },
  {
   "cell_type": "code",
   "execution_count": null,
   "id": "cc4790ac",
   "metadata": {
    "lines_to_next_cell": 2
   },
   "outputs": [],
   "source": [
    "# Fit the model (ANOVA)\n",
    "model = smf.ols('RiseHeight ~ BakingPowder', data=data).fit()\n",
    "\n",
    "# Perform ANOVA\n",
    "anova_results = anova_lm(model)\n",
    "\n",
    "# Output the ANOVA table\n",
    "anova_results"
   ]
  },
  {
   "cell_type": "code",
   "execution_count": null,
   "id": "302b0a7b",
   "metadata": {
    "lines_to_next_cell": 2
   },
   "outputs": [],
   "source": [
    "n = 4\n",
    "\n",
    "# Treatment means\n",
    "means = np.array([np.array(group1).mean(), np.array(group2).mean(), np.array(group3).mean(), np.array(group4).mean()])\n",
    "\n",
    "# Contrast coefficients for linear trend\n",
    "c = np.array([-3, -1, 1, 3])\n",
    "\n",
    "# Compute contrast value\n",
    "L = np.sum(c * means)\n",
    "\n",
    "# Compute sum of squares for the contrast\n",
    "SS_contrast = (L**2) / (np.sum(c**2) / n)\n",
    "\n",
    "# Mean square for the contrast (df=1)\n",
    "MS_contrast = SS_contrast\n",
    "\n",
    "# Residual sum of squares from previous ANOVA\n",
    "SS_residual = 13.4875\n",
    "df_residual = 12\n",
    "\n",
    "# Mean square error\n",
    "MSE = SS_residual / df_residual\n",
    "\n",
    "# F-statistic for the contrast\n",
    "F = MS_contrast / MSE\n",
    "\n",
    "# p-value\n",
    "p_value = 1 - stats.f.cdf(F, 1, df_residual)\n",
    "\n",
    "print(\"Linear contrast L =\", L)\n",
    "print(\"SS_contrast =\", SS_contrast)\n",
    "print(\"F-statistic =\", F)\n",
    "print(\"p-value =\", p_value)"
   ]
  }
 ],
 "metadata": {
  "kernelspec": {
   "display_name": ".venv",
   "language": "python",
   "name": "python3"
  },
  "language_info": {
   "codemirror_mode": {
    "name": "ipython",
    "version": 3
   },
   "file_extension": ".py",
   "mimetype": "text/x-python",
   "name": "python",
   "nbconvert_exporter": "python",
   "pygments_lexer": "ipython3",
   "version": "3.12.12"
  }
 },
 "nbformat": 4,
 "nbformat_minor": 5
}
