{
 "cells": [
  {
   "cell_type": "code",
   "execution_count": null,
   "id": "42545acd",
   "metadata": {},
   "outputs": [],
   "source": [
    "import pandas as pd\n",
    "import patsy\n",
    "import numpy as np\n",
    "from statsmodels.formula.api import ols\n",
    "import statsmodels.api as sm\n",
    "import matplotlib.pyplot as plt\n",
    "import seaborn as sns\n",
    "from statsmodels.stats.multicomp import pairwise_tukeyhsd"
   ]
  },
  {
   "cell_type": "code",
   "execution_count": null,
   "id": "73e9b4f0",
   "metadata": {},
   "outputs": [],
   "source": [
    "df = pd.read_csv(\"dentalplan.txt\",sep=r\"\\s+\",header=None,names=[\"Pain_Relief\", \"Block\", \"Drug\", \"Acupuncture\"])\n",
    "\n",
    "df"
   ]
  },
  {
   "cell_type": "code",
   "execution_count": null,
   "id": "ce3b22c2",
   "metadata": {},
   "outputs": [],
   "source": [
    "D_block = np.array([\n",
    "    [1, 0],  \n",
    "    [1, 0],  \n",
    "    [0, 1],  \n",
    "    [0, 1]   \n",
    "])\n",
    "X1 = np.kron(np.identity(8), D_block)\n",
    "X1"
   ]
  },
  {
   "cell_type": "code",
   "execution_count": null,
   "id": "2682097c",
   "metadata": {},
   "outputs": [],
   "source": [
    "A_block = np.array([\n",
    "    [1, 0], \n",
    "    [0, 1],  \n",
    "    [1, 0],  \n",
    "    [0, 1] \n",
    "])\n",
    "\n",
    "X1 = np.kron(np.identity(8), D_block)\n",
    "X1\n",
    "X2 = np.kron(np.identity(8), A_block)\n",
    "X2"
   ]
  },
  {
   "cell_type": "code",
   "execution_count": null,
   "id": "e8de6fef",
   "metadata": {},
   "outputs": [],
   "source": [
    "X = np.hstack([X1, X2])\n",
    "X"
   ]
  },
  {
   "cell_type": "code",
   "execution_count": null,
   "id": "ff888475",
   "metadata": {},
   "outputs": [],
   "source": [
    "y, X = patsy.dmatrices('Pain_Relief ~ C(Drug) * C(Acupuncture) + C(Block)', data=df)\n",
    "beta_hat = np.linalg.inv(X.T @ X) @ X.T @ y\n",
    "beta_hat"
   ]
  },
  {
   "cell_type": "code",
   "execution_count": null,
   "id": "b2d1c264",
   "metadata": {},
   "outputs": [],
   "source": [
    "model_blocked = ols('Pain_Relief ~ C(Drug) * C(Acupuncture) + C(Block)', data=df).fit()\n",
    "print(model_blocked.summary())"
   ]
  },
  {
   "cell_type": "code",
   "execution_count": null,
   "id": "f15ae041",
   "metadata": {},
   "outputs": [],
   "source": [
    "print(model_blocked.params)"
   ]
  },
  {
   "cell_type": "code",
   "execution_count": null,
   "id": "96a5ec6e",
   "metadata": {},
   "outputs": [],
   "source": [
    "\n",
    "residuals = model_blocked.resid\n",
    "fitted = model_blocked.fittedvalues\n",
    "\n",
    "\n",
    "df_resid = pd.DataFrame({\n",
    "    \"Fitted\": fitted,\n",
    "    \"Residuals\": residuals\n",
    "})\n",
    "\n",
    "print(df_resid.head())"
   ]
  },
  {
   "cell_type": "code",
   "execution_count": null,
   "id": "cb3b3cb9",
   "metadata": {},
   "outputs": [],
   "source": [
    "plt.figure(figsize=(8,6))\n",
    "sns.scatterplot(x=fitted, y=residuals, s=70, color=\"steelblue\", edgecolor=\"black\")\n",
    "plt.axhline(0, color=\"red\", linestyle=\"--\", linewidth=1)\n",
    "plt.xlabel(r\"Fitted values ($\\hat{y}$)\", fontsize=12)\n",
    "plt.ylabel(r\"Residuals ($\\epsilon_i$)\", fontsize=12)\n",
    "plt.title(\"Residuals vs Fitted Values — Randomized Block Model\", fontsize=13)\n",
    "plt.show();"
   ]
  },
  {
   "cell_type": "code",
   "execution_count": null,
   "id": "a645d7c0",
   "metadata": {},
   "outputs": [],
   "source": [
    "anova_table = sm.stats.anova_lm(model_blocked, typ=2)\n",
    "print(anova_table)"
   ]
  },
  {
   "cell_type": "code",
   "execution_count": null,
   "id": "7a27af02",
   "metadata": {},
   "outputs": [],
   "source": [
    "sns.pointplot(\n",
    "    data=df, x=\"Drug\", y=\"Pain_Relief\",\n",
    "    hue=\"Acupuncture\", errorbar=('ci', 95), dodge=True, capsize=0.1,\n",
    "    markers=[\"o\", \"s\"]\n",
    ")\n",
    "plt.title(\"Interaction Plot: Drug X Acupuncture (95% CI)\")\n",
    "plt.ylabel(\"Mean Pain Relief ± 95% CI\")\n",
    "plt.show();\n"
   ]
  },
  {
   "cell_type": "code",
   "execution_count": null,
   "id": "1b5905ca",
   "metadata": {},
   "outputs": [],
   "source": [
    "means_drug = df.groupby(\"Drug\")[\"Pain_Relief\"].mean()\n",
    "print(means_drug)\n",
    "\n",
    "\n",
    "means_acup = df.groupby(\"Acupuncture\")[\"Pain_Relief\"].mean()\n",
    "print(means_acup)"
   ]
  },
  {
   "cell_type": "code",
   "execution_count": null,
   "id": "fa5cadaa",
   "metadata": {},
   "outputs": [],
   "source": [
    "# Drug effect (alpha_1 - alpha_2)\n",
    "diff_drug = means_drug[2] - means_drug[1]  \n",
    "\n",
    "# Acupuncture effect (beta_1 - beta_2)\n",
    "diff_acup = means_acup[2] - means_acup[1] \n",
    "\n",
    "print(f\"Estimated Drug effect (alpha1 - alpha2): {diff_drug:.3f}\")\n",
    "print(f\"Estimated Acupuncture effect (beta1 - beta2): {diff_acup:.3f}\")\n"
   ]
  }
 ],
 "metadata": {
  "kernelspec": {
   "display_name": ".venv",
   "language": "python",
   "name": "python3"
  },
  "language_info": {
   "codemirror_mode": {
    "name": "ipython",
    "version": 3
   },
   "file_extension": ".py",
   "mimetype": "text/x-python",
   "name": "python",
   "nbconvert_exporter": "python",
   "pygments_lexer": "ipython3",
   "version": "3.12.12"
  }
 },
 "nbformat": 4,
 "nbformat_minor": 5
}
