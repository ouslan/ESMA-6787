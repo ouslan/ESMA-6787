{
 "cells": [
  {
   "cell_type": "code",
   "execution_count": null,
   "id": "42545acd",
   "metadata": {},
   "outputs": [],
   "source": [
    "import pandas as pd\n",
    "import patsy\n",
    "import numpy as np\n",
    "from statsmodels.formula.api import ols\n",
    "import statsmodels.api as sm\n",
    "from statsmodels.stats.multicomp import pairwise_tukeyhsd"
   ]
  },
  {
   "cell_type": "code",
   "execution_count": null,
   "id": "73e9b4f0",
   "metadata": {},
   "outputs": [],
   "source": [
    "data = {\n",
    "    \"Block\": [1, 2, 3, 4, 5, 6, 7, 8, 9, 10],\n",
    "    \"Training Method (1)\": [73, 76, 72, 74, 76, 75, 68, 72, 65, 62],\n",
    "    \"Training Method (2)\": [81, 78, 80, 79, 71, 75, 72, 84, 73, 69],\n",
    "    \"Training Method (3)\": [92, 89, 87, 90, 88, 86, 88, 87, 81, 78]\n",
    "}\n",
    "\n",
    "df = pd.DataFrame(data)\n",
    "\n",
    "df_long = df.melt(id_vars='Block', \n",
    "                  var_name='Training', \n",
    "                  value_name='Score')\n",
    "\n",
    "y = df_long[\"Score\"].values.reshape(-1,1)\n",
    "t = 3\n",
    "b = 10"
   ]
  },
  {
   "cell_type": "code",
   "execution_count": null,
   "id": "ce3b22c2",
   "metadata": {},
   "outputs": [],
   "source": [
    "X1 = np.kron(np.ones((b, 1)), np.identity(t))\n",
    "X1"
   ]
  },
  {
   "cell_type": "code",
   "execution_count": null,
   "id": "2682097c",
   "metadata": {},
   "outputs": [],
   "source": [
    "X2 = np.kron(np.identity(b), np.ones((t, 1)))\n",
    "X2"
   ]
  },
  {
   "cell_type": "code",
   "execution_count": null,
   "id": "e8de6fef",
   "metadata": {},
   "outputs": [],
   "source": [
    "X = np.hstack([X1, X2])\n",
    "X"
   ]
  },
  {
   "cell_type": "code",
   "execution_count": null,
   "id": "ff888475",
   "metadata": {},
   "outputs": [],
   "source": [
    "y, X = patsy.dmatrices('Score ~ C(Block) + C(Training)', data=df_long)\n",
    "beta_hat = np.linalg.inv(X.T @ X) @ X.T @ y\n",
    "beta_hat"
   ]
  },
  {
   "cell_type": "code",
   "execution_count": null,
   "id": "b2d1c264",
   "metadata": {},
   "outputs": [],
   "source": [
    "model_blocked = ols('Score ~ C(Block) + C(Training)', data=df_long).fit()\n",
    "print(model_blocked.summary())"
   ]
  },
  {
   "cell_type": "code",
   "execution_count": null,
   "id": "a645d7c0",
   "metadata": {},
   "outputs": [],
   "source": [
    "anova_table = sm.stats.anova_lm(model_blocked, typ=2)\n",
    "print(anova_table)"
   ]
  },
  {
   "cell_type": "code",
   "execution_count": null,
   "id": "cfe0cf0f",
   "metadata": {},
   "outputs": [],
   "source": [
    "mse = anova_table.loc['Residual', 'sum_sq'] / anova_table.loc['Residual', 'df']\n",
    "print(\"Estimated MSE:\", mse)"
   ]
  },
  {
   "cell_type": "code",
   "execution_count": null,
   "id": "fdaddb17",
   "metadata": {},
   "outputs": [],
   "source": [
    "tukey = pairwise_tukeyhsd(endog=df_long['Score'],\n",
    "                          groups=df_long['Training'],\n",
    "                          alpha=0.10)\n",
    "print(tukey.summary())"
   ]
  },
  {
   "cell_type": "code",
   "execution_count": null,
   "id": "9773183f",
   "metadata": {},
   "outputs": [],
   "source": [
    "MSE_blocked = model_blocked.mse_resid\n",
    "model_CRD = ols('Score ~ C(Training)', data=df_long).fit()\n",
    "MSE_CRD = model_CRD.mse_resid\n",
    "reduction = (MSE_CRD - MSE_blocked) / MSE_CRD * 100\n",
    "\n",
    "print(\"Completely Randomized Design MSE:\", MSE_CRD)\n",
    "\n",
    "print(f\"Reduction in residual variance due to blocking: {reduction:.2f}%\")"
   ]
  }
 ],
 "metadata": {
  "kernelspec": {
   "display_name": ".venv",
   "language": "python",
   "name": "python3"
  },
  "language_info": {
   "codemirror_mode": {
    "name": "ipython",
    "version": 3
   },
   "file_extension": ".py",
   "mimetype": "text/x-python",
   "name": "python",
   "nbconvert_exporter": "python",
   "pygments_lexer": "ipython3",
   "version": "3.12.12"
  }
 },
 "nbformat": 4,
 "nbformat_minor": 5
}
