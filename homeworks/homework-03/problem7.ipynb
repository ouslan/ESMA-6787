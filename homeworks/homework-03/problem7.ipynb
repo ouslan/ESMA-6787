{
 "cells": [
  {
   "cell_type": "code",
   "execution_count": null,
   "id": "5e8e1643",
   "metadata": {},
   "outputs": [],
   "source": [
    "import matplotlib.pyplot as plt\n",
    "import numpy as np\n",
    "import pandas as pd\n",
    "import statsmodels.api as sm\n",
    "from statsmodels.formula.api import ols\n",
    "from statsmodels.stats.multicomp import pairwise_tukeyhsd"
   ]
  },
  {
   "cell_type": "code",
   "execution_count": null,
   "id": "3bcccd78",
   "metadata": {},
   "outputs": [],
   "source": [
    "\n",
    "sales_data = {\n",
    "    'A': [1.0, 1.4, 2.0, 2.5],\n",
    "    'B': [1.2, 1.6, 2.1, 2.7],\n",
    "    'C': [1.5, 1.5, 2.8, 2.9],\n",
    "    'D': [1.7, 1.9, 2.7, 3.4]\n",
    "}\n",
    "\n",
    "\n",
    "price_levels = list(sales_data.keys())\n",
    "mean_sales = [np.mean(sales_data[price]) for price in price_levels]\n",
    "\n",
    "\n",
    "plt.figure(figsize=(8,5))\n",
    "plt.plot(price_levels, mean_sales, marker='o', linestyle='-', color='b')\n",
    "plt.title('Main Effects Plot of Price on Sales')\n",
    "plt.xlabel('Price Level')\n",
    "plt.ylabel('Mean Sales (thousands of $)')\n",
    "plt.grid(True)\n",
    "plt.show();"
   ]
  },
  {
   "cell_type": "code",
   "execution_count": null,
   "id": "559a1b4f",
   "metadata": {},
   "outputs": [],
   "source": [
    "\n",
    "data = pd.DataFrame({\n",
    "    'Sales': [1.2, 1.5, 1.0, 1.7,\n",
    "              1.4, 1.9, 1.6, 1.5,\n",
    "              2.8, 2.1, 2.7, 2.0,\n",
    "              3.4, 2.5, 2.9, 2.7],\n",
    "    'Price': ['B','C','A','D',\n",
    "              'A','D','B','C',\n",
    "              'C','B','D','A',\n",
    "              'D','A','C','B'],\n",
    "    'Volume': ['1','1','1','1',\n",
    "            '2','2','2','2',\n",
    "            '3','3','3','3',\n",
    "            '4','4','4','4'],\n",
    "    'Location': ['NE','NW','SE','SW',\n",
    "               'NE','NW','SE','SW',\n",
    "               'NE','NW','SE','SW',\n",
    "               'NE','NW','SE','SW']\n",
    "})\n",
    "\n",
    "model = ols('Sales ~ C(Price) + C(Volume) + C(Location)', data=data).fit()\n",
    "anova_table = sm.stats.anova_lm(model, typ=2)\n",
    "print(anova_table)"
   ]
  },
  {
   "cell_type": "code",
   "execution_count": null,
   "id": "6a1852e5",
   "metadata": {},
   "outputs": [],
   "source": [
    "tukey = pairwise_tukeyhsd(endog=data['Sales'], groups=data['Price'], alpha=0.10)\n",
    "print(tukey.summary())"
   ]
  },
  {
   "cell_type": "code",
   "execution_count": null,
   "id": "48d59c69",
   "metadata": {},
   "outputs": [],
   "source": [
    "\n",
    "price_numeric = np.array([1.79, 1.69, 1.59, 1.49])\n",
    "mean_sales = np.array([1.975, 1.900, 2.175, 2.425])\n",
    "\n",
    "plt.scatter(price_numeric, mean_sales)\n",
    "plt.plot(price_numeric, np.poly1d(np.polyfit(price_numeric, mean_sales, 1))(price_numeric), color='r', linestyle='--')\n",
    "plt.xlabel('Price ($)')\n",
    "plt.ylabel('Mean Sales (thousands $)')\n",
    "plt.title('Mean Sales vs Price')\n",
    "plt.grid(True)\n",
    "plt.show()\n"
   ]
  }
 ],
 "metadata": {
  "kernelspec": {
   "display_name": ".venv",
   "language": "python",
   "name": "python3"
  },
  "language_info": {
   "codemirror_mode": {
    "name": "ipython",
    "version": 3
   },
   "file_extension": ".py",
   "mimetype": "text/x-python",
   "name": "python",
   "nbconvert_exporter": "python",
   "pygments_lexer": "ipython3",
   "version": "3.12.12"
  }
 },
 "nbformat": 4,
 "nbformat_minor": 5
}
