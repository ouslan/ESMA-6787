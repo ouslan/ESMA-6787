{
 "cells": [
  {
   "cell_type": "code",
   "execution_count": null,
   "id": "03641447",
   "metadata": {},
   "outputs": [],
   "source": [
    "import pandas as pd\n",
    "import statsmodels.api as sm\n",
    "from statsmodels.formula.api import ols"
   ]
  },
  {
   "cell_type": "code",
   "execution_count": null,
   "id": "b7b65c97",
   "metadata": {},
   "outputs": [],
   "source": [
    "# Create the data\n",
    "data = {\n",
    "    \"Subject\": [1, 1, 1, 1,\n",
    "                2, 2, 2, 2,\n",
    "                3, 3, 3, 3,\n",
    "                4, 4, 4, 4],\n",
    "    \"Period\": [1, 2, 3, 4,\n",
    "               1, 2, 3, 4,\n",
    "               1, 2, 3, 4,\n",
    "               1, 2, 3, 4],\n",
    "    \"Treatment\": [\"A\", \"B\", \"B\", \"C\",\n",
    "                  \"B\", \"C\", \"A\", \"D\",\n",
    "                  \"C\", \"D\", \"B\", \"A\",\n",
    "                  \"A\", \"A\", \"C\", \"B\"],\n",
    "    \"Growth\": [0.02, 0.15, 0.45, 0.18,\n",
    "               0.27, 0.24, -0.01, 0.58,\n",
    "               0.11, 0.35, 0.14, -0.03,\n",
    "               0.48, 0.04, 0.18, 0.22]\n",
    "}\n",
    "\n",
    "df = pd.DataFrame(data)\n",
    "df[\"Subject\"] = df[\"Subject\"].astype(\"category\")\n",
    "df[\"Period\"] = df[\"Period\"].astype(\"category\")\n",
    "df[\"Treatment\"] = df[\"Treatment\"].astype(\"category\")\n",
    "\n",
    "\n"
   ]
  },
  {
   "cell_type": "code",
   "execution_count": null,
   "id": "67dc45e8",
   "metadata": {},
   "outputs": [],
   "source": [
    "model = ols(\"Growth ~ C(Subject) + C(Period) + C(Treatment)\", data=df).fit()\n",
    "anova_table = sm.stats.anova_lm(model, typ=2)\n",
    "\n",
    "print(anova_table)"
   ]
  }
 ],
 "metadata": {
  "kernelspec": {
   "display_name": ".venv",
   "language": "python",
   "name": "python3"
  },
  "language_info": {
   "name": "python",
   "version": "3.12.12"
  }
 },
 "nbformat": 4,
 "nbformat_minor": 5
}
